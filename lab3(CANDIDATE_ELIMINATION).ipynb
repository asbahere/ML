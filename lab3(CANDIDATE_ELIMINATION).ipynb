{
  "cells": [
    {
      "cell_type": "markdown",
      "metadata": {
        "id": "view-in-github",
        "colab_type": "text"
      },
      "source": [
        "<a href=\"https://colab.research.google.com/github/asbahere/ML/blob/main/lab3(CANDIDATE_ELIMINATION).ipynb\" target=\"_parent\"><img src=\"https://colab.research.google.com/assets/colab-badge.svg\" alt=\"Open In Colab\"/></a>"
      ]
    },
    {
      "cell_type": "code",
      "execution_count": 1,
      "metadata": {
        "colab": {
          "base_uri": "https://localhost:8080/"
        },
        "id": "mKIFCkQvHAan",
        "outputId": "b0390c77-181c-4ff3-f89a-2c89f23e28f5"
      },
      "outputs": [
        {
          "output_type": "stream",
          "name": "stdout",
          "text": [
            "Mounted at /content/drive\n"
          ]
        }
      ],
      "source": [
        "from google.colab import drive\n",
        "drive.mount('/content/drive')"
      ]
    },
    {
      "cell_type": "code",
      "execution_count": 2,
      "metadata": {
        "colab": {
          "base_uri": "https://localhost:8080/"
        },
        "id": "5W5WeKzvHAae",
        "outputId": "27385e4a-a074-43e7-8b21-d7a0f1dc91d0"
      },
      "outputs": [
        {
          "output_type": "stream",
          "name": "stdout",
          "text": [
            "Maximally specific hypotheses - S \n",
            "Maximally general hypotheses - G \n",
            "\n",
            "S[0]: {('0', '0', '0', '0', '0', '0')} \n",
            "G[0]: {('?', '?', '?', '?', '?', '?')}\n",
            "\n",
            "S[1]: {('0', '0', '0', '0', '0', '0')}\n",
            "G[1]: {('Rainy', '?', '?', '?', '?', '?'), ('?', 'Cold', '?', '?', '?', '?'), ('?', '?', '?', '?', '?', 'Change'), ('?', '?', 'High', '?', '?', '?'), ('?', '?', '?', '?', 'Warm', '?'), ('Sunny', '?', '?', '?', '?', '?'), ('?', 'Warm', '?', '?', '?', '?'), ('?', '?', '?', 'Strong', '?', '?'), ('?', '?', '?', '?', 'Cool', '?'), ('?', '?', 'Normal', '?', '?', '?'), ('?', '?', '?', '?', '?', 'Same')}\n",
            "\n",
            "S[2]: {('0', '0', '0', '0', '0', '0')}\n",
            "G[2]: {('?', '?', 'Normal', '?', '?', 'Forecast'), ('?', '?', 'Humidity', '?', 'Warm', '?'), ('Sky', 'Warm', '?', '?', '?', '?'), ('?', 'Warm', '?', '?', '?', 'Forecast'), ('?', '?', '?', 'Wind', '?', 'Same'), ('?', '?', '?', 'Strong', 'Water', '?'), ('?', 'AirTemp', '?', '?', 'Warm', '?'), ('Sky', '?', '?', '?', 'Warm', '?'), ('Rainy', '?', '?', '?', '?', '?'), ('?', 'Cold', '?', '?', '?', '?'), ('?', '?', 'Normal', '?', 'Water', '?'), ('Sunny', 'AirTemp', '?', '?', '?', '?'), ('Sunny', '?', '?', '?', '?', 'Forecast'), ('?', '?', '?', '?', 'Cool', '?'), ('?', '?', '?', '?', '?', 'Change'), ('Sunny', '?', '?', 'Wind', '?', '?'), ('?', '?', 'Humidity', 'Strong', '?', '?'), ('Sky', '?', 'Normal', '?', '?', '?'), ('?', 'Warm', '?', '?', 'Water', '?'), ('?', '?', 'Humidity', '?', '?', 'Same'), ('Sunny', '?', '?', '?', 'Water', '?'), ('?', '?', '?', 'Strong', '?', 'Forecast'), ('?', '?', '?', '?', 'Water', 'Same'), ('Sunny', '?', 'Humidity', '?', '?', '?'), ('?', 'Warm', '?', 'Wind', '?', '?'), ('?', 'AirTemp', '?', '?', '?', 'Same'), ('Sky', '?', '?', '?', '?', 'Same'), ('?', '?', 'High', '?', '?', '?'), ('?', 'AirTemp', '?', 'Strong', '?', '?'), ('?', '?', '?', 'Wind', 'Warm', '?'), ('?', '?', '?', '?', 'Warm', 'Forecast'), ('?', 'Warm', 'Humidity', '?', '?', '?'), ('?', '?', 'Normal', 'Wind', '?', '?'), ('Sky', '?', '?', 'Strong', '?', '?'), ('?', 'AirTemp', 'Normal', '?', '?', '?')}\n",
            "\n",
            "S[3]: {('0', '0', '0', '0', '0', '0')}\n",
            "G[3]: {('?', '?', 'Normal', '?', '?', 'Forecast'), ('?', '?', 'Humidity', '?', 'Warm', '?'), ('Sky', 'Warm', '?', '?', '?', '?'), ('?', 'Warm', '?', '?', '?', 'Forecast'), ('?', '?', '?', 'Wind', '?', 'Same'), ('?', '?', '?', 'Strong', 'Water', '?'), ('?', 'AirTemp', '?', '?', 'Warm', '?'), ('Sky', '?', '?', '?', 'Warm', '?'), ('Rainy', '?', '?', '?', '?', '?'), ('?', 'Cold', '?', '?', '?', '?'), ('?', 'AirTemp', 'High', '?', '?', '?'), ('?', '?', 'Normal', '?', 'Water', '?'), ('?', '?', 'High', '?', '?', 'Forecast'), ('Sunny', 'AirTemp', '?', '?', '?', '?'), ('Sunny', '?', '?', '?', '?', 'Forecast'), ('?', '?', '?', '?', 'Cool', '?'), ('?', '?', '?', '?', '?', 'Change'), ('Sunny', '?', '?', 'Wind', '?', '?'), ('?', '?', 'Humidity', 'Strong', '?', '?'), ('Sky', '?', 'Normal', '?', '?', '?'), ('?', 'Warm', '?', '?', 'Water', '?'), ('?', '?', 'Humidity', '?', '?', 'Same'), ('?', '?', 'High', '?', 'Water', '?'), ('Sunny', '?', '?', '?', 'Water', '?'), ('?', '?', '?', 'Strong', '?', 'Forecast'), ('?', '?', '?', '?', 'Water', 'Same'), ('Sunny', '?', 'Humidity', '?', '?', '?'), ('?', 'Warm', '?', 'Wind', '?', '?'), ('?', 'AirTemp', '?', '?', '?', 'Same'), ('Sky', '?', '?', '?', '?', 'Same'), ('?', 'AirTemp', '?', 'Strong', '?', '?'), ('?', '?', '?', 'Wind', 'Warm', '?'), ('Sky', '?', 'High', '?', '?', '?'), ('?', '?', 'High', 'Wind', '?', '?'), ('?', '?', '?', '?', 'Warm', 'Forecast'), ('?', 'Warm', 'Humidity', '?', '?', '?'), ('?', '?', 'Normal', 'Wind', '?', '?'), ('Sky', '?', '?', 'Strong', '?', '?'), ('?', 'AirTemp', 'Normal', '?', '?', '?')}\n",
            "\n",
            "S[4]: {('0', '0', '0', '0', '0', '0')}\n",
            "G[4]: {('?', 'Cold', 'Humidity', '?', '?', '?'), ('?', '?', 'Humidity', '?', 'Warm', '?'), ('Rainy', '?', '?', '?', 'Water', '?'), ('Sky', 'Cold', '?', '?', '?', '?'), ('?', 'Cold', '?', '?', 'Water', '?'), ('Sky', 'Warm', '?', '?', '?', '?'), ('Rainy', '?', 'Normal', '?', '?', '?'), ('?', 'Warm', '?', '?', '?', 'Forecast'), ('?', '?', '?', 'Wind', '?', 'Same'), ('?', 'AirTemp', '?', '?', 'Warm', '?'), ('?', 'Cold', '?', 'Wind', '?', '?'), ('?', '?', 'Humidity', '?', '?', 'Change'), ('?', 'AirTemp', 'High', '?', '?', '?'), ('?', '?', 'Normal', '?', 'Water', '?'), ('?', '?', 'Normal', '?', '?', 'Change'), ('?', '?', '?', '?', 'Water', 'Change'), ('Sunny', '?', '?', '?', '?', 'Forecast'), ('Rainy', '?', '?', '?', '?', 'Same'), ('?', 'Cold', '?', '?', '?', 'Same'), ('Sunny', '?', '?', 'Wind', '?', '?'), ('?', '?', 'Humidity', 'Strong', '?', '?'), ('Rainy', '?', 'Humidity', '?', '?', '?'), ('?', 'AirTemp', '?', '?', '?', 'Change'), ('?', '?', 'Humidity', '?', '?', 'Same'), ('Sunny', '?', '?', '?', 'Water', '?'), ('Rainy', 'Warm', '?', '?', '?', '?'), ('?', '?', '?', '?', 'Water', 'Same'), ('?', 'AirTemp', '?', '?', '?', 'Same'), ('?', '?', 'Normal', 'Wind', '?', '?'), ('?', '?', '?', 'Wind', '?', 'Change'), ('?', '?', 'Normal', '?', '?', 'Forecast'), ('?', '?', '?', 'Strong', 'Water', '?'), ('Sky', '?', '?', '?', 'Warm', '?'), ('Rainy', 'AirTemp', '?', '?', '?', '?'), ('?', '?', 'High', '?', '?', 'Forecast'), ('Sunny', 'AirTemp', '?', '?', '?', '?'), ('?', 'AirTemp', 'Normal', '?', '?', '?'), ('?', '?', '?', '?', 'Cool', '?'), ('Sunny', 'Cold', '?', '?', '?', '?'), ('Sky', '?', 'Normal', '?', '?', '?'), ('Sky', '?', '?', '?', '?', 'Change'), ('?', 'Warm', '?', '?', 'Water', '?'), ('?', 'Warm', '?', '?', '?', 'Change'), ('?', '?', 'High', '?', 'Water', '?'), ('?', '?', '?', 'Strong', '?', 'Forecast'), ('Sunny', '?', 'Humidity', '?', '?', '?'), ('Rainy', '?', '?', 'Wind', '?', '?'), ('?', 'Warm', '?', 'Wind', '?', '?'), ('Sunny', '?', '?', '?', '?', 'Change'), ('Sky', '?', '?', '?', '?', 'Same'), ('?', 'AirTemp', '?', 'Strong', '?', '?'), ('?', '?', '?', 'Wind', 'Warm', '?'), ('Rainy', '?', '?', '?', '?', 'Forecast'), ('?', '?', 'High', 'Wind', '?', '?'), ('Sky', '?', 'High', '?', '?', '?'), ('?', 'Cold', '?', '?', '?', 'Forecast'), ('?', '?', '?', '?', 'Warm', 'Forecast'), ('?', 'Warm', 'Humidity', '?', '?', '?'), ('Sky', '?', '?', 'Strong', '?', '?'), ('?', 'Cold', 'Normal', '?', '?', '?')}\n",
            "\n",
            "S[5]: {('0', '0', '0', '0', '0', '0')}\n",
            "G[5]: {('?', 'Cold', 'Humidity', '?', '?', '?'), ('?', '?', 'Humidity', '?', 'Warm', '?'), ('Rainy', '?', '?', '?', 'Water', '?'), ('Sky', 'Cold', '?', '?', '?', '?'), ('?', 'Cold', '?', '?', 'Water', '?'), ('Sky', 'Warm', '?', '?', '?', '?'), ('Rainy', '?', 'Normal', '?', '?', '?'), ('?', 'Warm', '?', '?', '?', 'Forecast'), ('?', '?', 'Humidity', '?', 'Cool', '?'), ('?', 'Warm', '?', '?', 'Warm', 'Change'), ('?', '?', '?', 'Wind', '?', 'Same'), ('?', 'AirTemp', '?', '?', 'Warm', '?'), ('?', 'Cold', '?', 'Wind', '?', '?'), ('?', '?', 'Humidity', '?', '?', 'Change'), ('?', 'AirTemp', 'High', '?', '?', '?'), ('?', '?', 'Normal', '?', 'Water', '?'), ('?', '?', 'Normal', '?', '?', 'Change'), ('?', '?', '?', '?', 'Water', 'Change'), ('Sunny', '?', '?', '?', '?', 'Forecast'), ('Sunny', '?', '?', '?', 'Warm', 'Change'), ('Rainy', '?', '?', '?', '?', 'Same'), ('?', 'Cold', '?', '?', '?', 'Same'), ('Sunny', '?', '?', 'Wind', '?', '?'), ('?', '?', 'Humidity', 'Strong', '?', '?'), ('Rainy', '?', 'Humidity', '?', '?', '?'), ('?', 'AirTemp', '?', '?', '?', 'Change'), ('Sky', '?', '?', '?', 'Cool', '?'), ('?', '?', '?', '?', 'Cool', 'Same'), ('?', '?', 'Humidity', '?', '?', 'Same'), ('Sunny', '?', '?', '?', 'Water', '?'), ('Rainy', 'Warm', '?', '?', '?', '?'), ('?', '?', '?', '?', 'Water', 'Same'), ('?', 'AirTemp', '?', '?', '?', 'Same'), ('?', '?', 'Normal', 'Wind', '?', '?'), ('?', '?', '?', 'Wind', '?', 'Change'), ('?', '?', 'Normal', '?', '?', 'Forecast'), ('?', 'Cold', '?', '?', 'Cool', '?'), ('Rainy', '?', '?', '?', 'Cool', '?'), ('?', '?', '?', 'Strong', 'Water', '?'), ('Sky', '?', '?', '?', 'Warm', '?'), ('Rainy', 'AirTemp', '?', '?', '?', '?'), ('?', '?', 'Normal', '?', 'Cool', '?'), ('?', '?', 'High', '?', '?', 'Forecast'), ('Sunny', 'AirTemp', '?', '?', '?', '?'), ('?', 'AirTemp', 'Normal', '?', '?', '?'), ('?', 'AirTemp', '?', '?', 'Cool', '?'), ('Sunny', 'Cold', '?', '?', '?', '?'), ('Sky', '?', 'Normal', '?', '?', '?'), ('Sky', '?', '?', '?', '?', 'Change'), ('?', 'Warm', '?', '?', 'Water', '?'), ('?', '?', 'High', '?', 'Water', '?'), ('?', '?', '?', 'Strong', '?', 'Forecast'), ('Sunny', '?', 'Humidity', '?', '?', '?'), ('Rainy', '?', '?', 'Wind', '?', '?'), ('?', 'Warm', '?', 'Wind', '?', '?'), ('Sky', '?', '?', '?', '?', 'Same'), ('?', 'AirTemp', '?', 'Strong', '?', '?'), ('?', '?', '?', 'Wind', 'Warm', '?'), ('Rainy', '?', '?', '?', '?', 'Forecast'), ('?', '?', 'High', 'Wind', '?', '?'), ('Sky', '?', 'High', '?', '?', '?'), ('?', 'Cold', '?', '?', '?', 'Forecast'), ('?', '?', '?', '?', 'Warm', 'Forecast'), ('?', '?', '?', 'Wind', 'Cool', '?'), ('?', 'Warm', 'Humidity', '?', '?', '?'), ('?', '?', '?', '?', 'Cool', 'Forecast'), ('Sky', '?', '?', 'Strong', '?', '?'), ('?', 'Cold', 'Normal', '?', '?', '?')}\n"
          ]
        }
      ],
      "source": [
        "import csv\n",
        "def get_domains(examples):\n",
        "    d = [set() for i in examples[0]]\n",
        "    for x in examples:\n",
        "        for i, xi in enumerate(x):\n",
        "            d[i].add(xi)\n",
        "    return [list(sorted(x)) for x in d]\n",
        "\n",
        "def more_general(h1, h2):\n",
        "    more_general_parts = []\n",
        "    for x, y in zip(h1, h2):\n",
        "        mg = x == \"?\" or (x != \"0\" and (x == y or y == \"0\"))\n",
        "        more_general_parts.append(mg)\n",
        "    return all(more_general_parts)\n",
        "\n",
        "def fulfills(example, hypothesis):\n",
        "# the implementation is the same as for hypotheses:\n",
        "    return more_general(hypothesis, example)\n",
        "\n",
        "def min_generalizations(h, x):\n",
        "    h_new = list(h)\n",
        "    for i in range(len(h)):\n",
        "        if not fulfills(x[i:i+1], h[i:i+1]):\n",
        "            h_new[i] = '?' if h[i] != '0' else x[i]\n",
        "    return [tuple(h_new)]\n",
        "\n",
        "def min_specializations(h, domains, x):\n",
        "    results = []\n",
        "    for i in range(len(h)):\n",
        "        if h[i] == \"?\":\n",
        "            for val in domains[i]:\n",
        "                if x[i] != val:\n",
        "                    h_new = h[:i] + (val,) + h[i+1:]\n",
        "                    results.append(h_new)\n",
        "        elif h[i] != \"0\":\n",
        "            h_new = h[:i] + ('0',) + h[i+1:]\n",
        "            results.append(h_new)\n",
        "    return results\n",
        "                \n",
        "def generalize_S(x, G, S):\n",
        "    S_prev = list(S)\n",
        "    for s in S_prev:\n",
        "        if s not in S:\n",
        "            continue\n",
        "        if not fulfills(x, s):\n",
        "            S.remove(s)\n",
        "            Splus = min_generalizations(s, x)\n",
        "            ## keep only generalizations that have a counterpart in G\n",
        "            S.update([h for h in Splus if any([more_general(g,h) for g in G])])\n",
        "            ## remove hypotheses less specific than any other in S\n",
        "            S.difference_update([h for h in S if any([more_general(h, h1) for h1 in S if h != h1])])\n",
        "    return S\n",
        "\n",
        "def specialize_G(x, domains, G, S):\n",
        "    G_prev = list(G)\n",
        "    for g in G_prev:\n",
        "        if g not in G:\n",
        "            continue\n",
        "        if fulfills(x, g):\n",
        "            G.remove(g)\n",
        "            Gminus = min_specializations(g, domains, x)\n",
        "            ## keep only specializations that have a conuterpart in S\n",
        "            G.update([h for h in Gminus if any([more_general(h, s) for s in S])])\n",
        "            ## remove hypotheses less general than any other in G\n",
        "            G.difference_update([h for h in G if any([more_general(g1, h) for g1 in G if h != g1])])\n",
        "            \n",
        "    return G\n",
        "\n",
        "def candidate_elimination(examples):\n",
        "    domains = get_domains(examples)[:-1]\n",
        "    n = len(domains)\n",
        "    G = set([(\"?\",)*n])\n",
        "    S = set([(\"0\",)*n])\n",
        "    print(\"Maximally specific hypotheses - S \")\n",
        "    print(\"Maximally general hypotheses - G \")\n",
        "    i=0\n",
        "    print(\"\\nS[0]:\",str(S),\"\\nG[0]:\",str(G))\n",
        "    for xcx in examples:\n",
        "        i=i+1\n",
        "        x, cx = xcx[:-1], xcx[-1]\n",
        "        if cx=='Y': # x is positive example\n",
        "            G = {g for g in G if fulfills(x, g)}\n",
        "            S = generalize_S(x, G, S)\n",
        "        else:\n",
        "            S = {s for s in S if not fulfills(x, s)}\n",
        "            G = specialize_G(x, domains, G, S)\n",
        "        print(\"\\nS[{0}]:\".format(i),S)\n",
        "        print(\"G[{0}]:\".format(i),G)\n",
        "    return\n",
        "\n",
        "with open('/content/drive/MyDrive/Test.csv') as csvFile:\n",
        "    examples = [tuple(line) for line in csv.reader(csvFile)]\n",
        "\n",
        "candidate_elimination(examples)\n"
      ]
    }
  ],
  "metadata": {
    "kernelspec": {
      "display_name": "Python 3",
      "language": "python",
      "name": "python3"
    },
    "language_info": {
      "codemirror_mode": {
        "name": "ipython",
        "version": 3
      },
      "file_extension": ".py",
      "mimetype": "text/x-python",
      "name": "python",
      "nbconvert_exporter": "python",
      "pygments_lexer": "ipython3",
      "version": "3.7.3"
    },
    "colab": {
      "provenance": [],
      "include_colab_link": true
    }
  },
  "nbformat": 4,
  "nbformat_minor": 0
}