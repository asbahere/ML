{
  "nbformat": 4,
  "nbformat_minor": 0,
  "metadata": {
    "colab": {
      "provenance": [],
      "authorship_tag": "ABX9TyN9wIa1b+8RvbBsafVTQl5e",
      "include_colab_link": true
    },
    "kernelspec": {
      "name": "python3",
      "display_name": "Python 3"
    },
    "language_info": {
      "name": "python"
    }
  },
  "cells": [
    {
      "cell_type": "markdown",
      "metadata": {
        "id": "view-in-github",
        "colab_type": "text"
      },
      "source": [
        "<a href=\"https://colab.research.google.com/github/asbahere/ML/blob/main/lab5(BAYNW_PREDICTION)ipynb(5b).ipynb\" target=\"_parent\"><img src=\"https://colab.research.google.com/assets/colab-badge.svg\" alt=\"Open In Colab\"/></a>"
      ]
    },
    {
      "cell_type": "code",
      "execution_count": 1,
      "metadata": {
        "colab": {
          "base_uri": "https://localhost:8080/"
        },
        "id": "D0xVJsh-CvMq",
        "outputId": "efb0e038-9e79-405d-f645-d240b6298b59"
      },
      "outputs": [
        {
          "output_type": "stream",
          "name": "stdout",
          "text": [
            "Mounted at //content/drive\n"
          ]
        }
      ],
      "source": [
        "from google.colab import drive\n",
        "drive.mount('//content/drive')\n"
      ]
    },
    {
      "cell_type": "code",
      "source": [
        "!pip install bayespy"
      ],
      "metadata": {
        "colab": {
          "base_uri": "https://localhost:8080/"
        },
        "id": "Ik37eVofDlez",
        "outputId": "4557a3ca-cd1b-4a3d-9865-84f3ed4f4a5a"
      },
      "execution_count": 22,
      "outputs": [
        {
          "output_type": "stream",
          "name": "stdout",
          "text": [
            "Looking in indexes: https://pypi.org/simple, https://us-python.pkg.dev/colab-wheels/public/simple/\n",
            "Collecting bayespy\n",
            "  Downloading bayespy-0.5.25.tar.gz (401 kB)\n",
            "\u001b[2K     \u001b[90m━━━━━━━━━━━━━━━━━━━━━━━━━━━━━━━━━━━━━━━\u001b[0m \u001b[32m401.7/401.7 kB\u001b[0m \u001b[31m8.3 MB/s\u001b[0m eta \u001b[36m0:00:00\u001b[0m\n",
            "\u001b[?25h  Preparing metadata (setup.py) ... \u001b[?25l\u001b[?25hdone\n",
            "Requirement already satisfied: numpy>=1.10.0 in /usr/local/lib/python3.10/dist-packages (from bayespy) (1.22.4)\n",
            "Requirement already satisfied: scipy>=0.13.0 in /usr/local/lib/python3.10/dist-packages (from bayespy) (1.10.1)\n",
            "Requirement already satisfied: h5py in /usr/local/lib/python3.10/dist-packages (from bayespy) (3.8.0)\n",
            "Building wheels for collected packages: bayespy\n",
            "  Building wheel for bayespy (setup.py) ... \u001b[?25l\u001b[?25hdone\n",
            "  Created wheel for bayespy: filename=bayespy-0.5.25-py3-none-any.whl size=377588 sha256=a7d87266c5a0864b3e3dc50df15fb8787b2fbb1535ca0fd6107d5801a865b80c\n",
            "  Stored in directory: /root/.cache/pip/wheels/fd/ae/c0/0140f31aa4575be0f2279df7dffcaf16ed8ca7fd33e9682bea\n",
            "Successfully built bayespy\n",
            "Installing collected packages: bayespy\n",
            "Successfully installed bayespy-0.5.25\n"
          ]
        }
      ]
    },
    {
      "cell_type": "code",
      "source": [
        "import pandas as pd\n",
        "import bayespy as bp\n",
        "import numpy as np\n",
        "import csv\n",
        "!pip3 install colorama\n",
        "!pip3 install colorama\n",
        "from colorama import init\n",
        "from colorama import Fore, Back, Style\n",
        "init()\n",
        "\n",
        "# Define Parameter Enum values\n",
        "# Age\n",
        "ageEnum = {'SuperSeniorCitizen': 0, 'SeniorCitizen': 1,\n",
        "           'MiddleAged': 2, 'Youth': 3, 'Teen': 4}\n",
        "# Gender\n",
        "genderEnum = {'Male': 0, 'Female': 1}\n",
        "# FamilyHistory\n",
        "familyHistoryEnum = {'Yes': 0, 'No': 1}\n",
        "# Diet(Calorie Intake)\n",
        "dietEnum = {'High': 0, 'Medium': 1, 'Low': 2}\n",
        "# LifeStyle\n",
        "lifeStyleEnum = {'Athlete': 0, 'Active': 1, 'Moderate': 2, 'Sedetary': 3}\n",
        "# Cholesterol\n",
        "cholesterolEnum = {'High': 0, 'BorderLine': 1, 'Normal': 2}\n",
        "# HeartDisease\n",
        "heartDiseaseEnum = {'Yes': 0, 'No': 1}\n",
        "     "
      ],
      "metadata": {
        "colab": {
          "base_uri": "https://localhost:8080/"
        },
        "id": "CNMpMsWMD2Vq",
        "outputId": "ddfc5d6e-913b-4f40-f44b-35ea43036a00"
      },
      "execution_count": 23,
      "outputs": [
        {
          "output_type": "stream",
          "name": "stdout",
          "text": [
            "Looking in indexes: https://pypi.org/simple, https://us-python.pkg.dev/colab-wheels/public/simple/\n",
            "Collecting colorama\n",
            "  Downloading colorama-0.4.6-py2.py3-none-any.whl (25 kB)\n",
            "Installing collected packages: colorama\n",
            "Successfully installed colorama-0.4.6\n",
            "Looking in indexes: https://pypi.org/simple, https://us-python.pkg.dev/colab-wheels/public/simple/\n",
            "Requirement already satisfied: colorama in /usr/local/lib/python3.10/dist-packages (0.4.6)\n"
          ]
        }
      ]
    },
    {
      "cell_type": "code",
      "source": [
        "data = pd.read_csv(\"/content/drive/MyDrive/CSV/hear disease data.csv\")"
      ],
      "metadata": {
        "id": "tWf0VntwD8-B"
      },
      "execution_count": 32,
      "outputs": []
    },
    {
      "cell_type": "code",
      "source": [
        "data =np.array(data, dtype='int8')\n",
        "N = len(data)\n",
        "     "
      ],
      "metadata": {
        "id": "1BrOUyZTEPMy"
      },
      "execution_count": 28,
      "outputs": []
    },
    {
      "cell_type": "code",
      "source": [
        "# Input data column assignment\n",
        "p_age = bp.nodes.Dirichlet(1.0*np.ones(5))\n",
        "age = bp.nodes.Categorical(p_age, plates=(N,))\n",
        "age.observe(data[:, 0])\n",
        "\n",
        "p_gender = bp.nodes.Dirichlet(1.0*np.ones(2))\n",
        "gender = bp.nodes.Categorical(p_gender, plates=(N,))\n",
        "gender.observe(data[:, 1])\n",
        "\n",
        "p_familyhistory = bp.nodes.Dirichlet(1.0*np.ones(2))\n",
        "familyhistory = bp.nodes.Categorical(p_familyhistory, plates=(N,))\n",
        "familyhistory.observe(data[:, 2])\n",
        "\n",
        "p_diet = bp.nodes.Dirichlet(1.0*np.ones(3))\n",
        "diet = bp.nodes.Categorical(p_diet, plates=(N,))\n",
        "diet.observe(data[:, 3])\n",
        "\n",
        "p_lifestyle = bp.nodes.Dirichlet(1.0*np.ones(4))\n",
        "lifestyle = bp.nodes.Categorical(p_lifestyle, plates=(N,))\n",
        "lifestyle.observe(data[:, 4])\n",
        "\n",
        "p_cholesterol = bp.nodes.Dirichlet(1.0*np.ones(3))\n",
        "cholesterol = bp.nodes.Categorical(p_cholesterol, plates=(N,))\n",
        "cholesterol.observe(data[:, 5])\n",
        "     "
      ],
      "metadata": {
        "id": "mvyo1DI5ERsa"
      },
      "execution_count": 29,
      "outputs": []
    },
    {
      "cell_type": "code",
      "source": [
        "# Prepare nodes and establish edges\n",
        "# np.ones(2) -> HeartDisease has 2 options Yes/No\n",
        "# plates(5, 2, 2, 3, 4, 3) -> corresponds to options present for domain values\n",
        "p_heartdisease = bp.nodes.Dirichlet(np.ones(2), plates=(5, 2, 2, 3, 4, 3))\n",
        "heartdisease = bp.nodes.MultiMixture(\n",
        "    [age, gender, familyhistory, diet, lifestyle, cholesterol], bp.nodes.Categorical, p_heartdisease)\n",
        "heartdisease.observe(data[:, 6])\n",
        "p_heartdisease.update()\n",
        "     "
      ],
      "metadata": {
        "id": "z_2Rc-YCEWZh"
      },
      "execution_count": 30,
      "outputs": []
    },
    {
      "cell_type": "code",
      "source": [
        "#print(\"Sample Probability\")\n",
        "#print(\"Probability(HeartDisease|Age=SuperSeniorCitizen, Gender=Female, FamilyHistory=Yes, DietIntake=Medium, LifeStyle=Sedetary, Cholesterol=High)\") \n",
        "#print(bp.nodes.MultiMixture([ageEnum['SuperSeniorCitizen'], genderEnum['Female'], familyHistoryEnum['Yes'], dietEnum['Medium'], lifeStyleEnum['Sedetary'], cholesterolEnum['High']], bp.nodes.Categorical, p_heartdisease).get_moments()[0] [heartDiseaseEnum['Yes']])\n",
        "\n",
        "# Interactive Test\n",
        "m = 0\n",
        "while m == 0:\n",
        "    print(\"\\n\")\n",
        "    res = bp.nodes.MultiMixture([int(input('Enter Age: ' + str(ageEnum))), int(input('Enter Gender: ' + str(genderEnum))), int(input('Enter FamilyHistory: ' + str(familyHistoryEnum))), int(input('Enter dietEnum: ' + str(\n",
        "        dietEnum))), int(input('Enter LifeStyle: ' + str(lifeStyleEnum))), int(input('Enter Cholesterol: ' + str(cholesterolEnum)))], bp.nodes.Categorical, p_heartdisease).get_moments()[0][heartDiseaseEnum['Yes']]\n",
        "    print(\"Probability(HeartDisease) = \" + str(res))\n",
        "\n",
        "# print(Style.RESET_ALL)\n",
        "    m = int(input(\"Enter for Continue:0, Exit :1 \"))\n",
        "     \n"
      ],
      "metadata": {
        "colab": {
          "base_uri": "https://localhost:8080/"
        },
        "id": "UYlJYlkaFrx6",
        "outputId": "6fe9f86d-2830-4502-8c06-04233f1700f3"
      },
      "execution_count": null,
      "outputs": [
        {
          "output_type": "stream",
          "name": "stdout",
          "text": [
            "\n",
            "\n"
          ]
        }
      ]
    },
    {
      "cell_type": "code",
      "source": [],
      "metadata": {
        "id": "x2t4S-9OI26j"
      },
      "execution_count": null,
      "outputs": []
    },
    {
      "cell_type": "code",
      "source": [],
      "metadata": {
        "id": "vmlzpT_2I3ub"
      },
      "execution_count": null,
      "outputs": []
    }
  ]
}