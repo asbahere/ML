{
  "cells": [
    {
      "cell_type": "markdown",
      "metadata": {
        "id": "view-in-github",
        "colab_type": "text"
      },
      "source": [
        "<a href=\"https://colab.research.google.com/github/asbahere/ML/blob/main/lab3(ID_3).ipynb\" target=\"_parent\"><img src=\"https://colab.research.google.com/assets/colab-badge.svg\" alt=\"Open In Colab\"/></a>"
      ]
    },
    {
      "cell_type": "code",
      "execution_count": 1,
      "metadata": {
        "colab": {
          "base_uri": "https://localhost:8080/"
        },
        "id": "oIWO13UfIXJ5",
        "outputId": "8f101130-6dae-404b-f3ab-718b066eba79"
      },
      "outputs": [
        {
          "output_type": "stream",
          "name": "stdout",
          "text": [
            "Mounted at /content/drive\n"
          ]
        }
      ],
      "source": [
        "from google.colab import drive\n",
        "drive.mount('/content/drive')"
      ]
    },
    {
      "cell_type": "code",
      "execution_count": 4,
      "metadata": {
        "colab": {
          "base_uri": "https://localhost:8080/"
        },
        "id": "aiuFMX7VIXJw",
        "outputId": "eba5e477-df25-4424-946c-ad03184e04da"
      },
      "outputs": [
        {
          "output_type": "stream",
          "name": "stdout",
          "text": [
            "The decision tree for the dataset using ID3 algorithm is \n",
            " Sky\n",
            "  Rainy\n",
            "   No\n",
            "  Sunny\n",
            "   Yes\n",
            "The test instance :  ['Sunny', 'Warm', 'Normal', 'Strong', 'Warm', 'Same', 'Yes']\n",
            "The predicted label : Yes\n",
            "The test instance :  ['Sunny', 'Warm', 'High', 'Strong', 'Warm', 'Same', 'Yes']\n",
            "The predicted label : Yes\n",
            "The test instance :  ['Rainy', 'Cold', 'High', 'Strong', 'Warm', 'Change', 'No']\n",
            "The predicted label : No\n",
            "The test instance :  ['Sunny', 'Warm', 'High', 'Strong', 'Cool', 'Change', 'Yes']\n",
            "The predicted label : Yes\n"
          ]
        }
      ],
      "source": [
        "import math\n",
        "import csv\n",
        "\n",
        "def load_csv(filename):\n",
        "    lines = csv.reader(open(filename, \"r\"));\n",
        "    dataset = list(lines)\n",
        "    headers = dataset.pop(0)\n",
        "    return dataset, headers\n",
        "\n",
        "class Node:\n",
        "    def __init__(self, attribute):\n",
        "        self.attribute = attribute\n",
        "        self.children = []\n",
        "        self.answer = \"\"\n",
        "        \n",
        "def subtables(data, col, delete):\n",
        "    dic = {}\n",
        "    coldata = [ row[col] for row in data]\n",
        "    attr = list(set(coldata)) # All values of attribute retrived\n",
        "    for k in attr:\n",
        "        dic[k] = []\n",
        "    for y in range(len(data)):\n",
        "        key = data[y][col]\n",
        "        if delete:\n",
        "            del data[y][col]\n",
        "        dic[key].append(data[y])\n",
        "    return attr, dic\n",
        "\n",
        "def entropy(S):\n",
        "    attr = list(set(S))\n",
        "    if len(attr) == 1: #if all are +v\n",
        "        return 0\n",
        "    counts = [0,0] # Only two values possible 'yes' or 'no'\n",
        "    for i in range(2):\n",
        "        counts[i] = sum( [1 for x in S if attr[i] == x] ) / (len(S) * 1.0)\n",
        "    sums = 0\n",
        "    for cnt in counts:\n",
        "        sums += -1 * cnt * math.log(cnt, 2)\n",
        "    return sums\n",
        "\n",
        "def compute_gain(data, col):\n",
        "    attValues, dic = subtables(data, col, delete=False)\n",
        "    total_entropy = entropy([row[-1] for row in data])\n",
        "    for x in range(len(attValues)):\n",
        "        ratio = len(dic[attValues[x]]) / ( len(data) * 1.0)\n",
        "        entro = entropy([row[-1] for row in dic[attValues[x]]])\n",
        "        total_entropy -= ratio*entro\n",
        "    return total_entropy\n",
        "\n",
        "def build_tree(data, features):\n",
        "    lastcol = [row[-1] for row in data]\n",
        "    if (len(set(lastcol))) == 1: # If all samples have same labels return that label\n",
        "        node=Node(\"\")\n",
        "        node.answer = lastcol[0]\n",
        "        return node\n",
        "    n = len(data[0])-1\n",
        "    gains = [compute_gain(data, col) for col in range(n) ]\n",
        "    split = gains.index(max(gains)) # Find max gains and returns index\n",
        "    node = Node(features[split]) # 'node' stores attribute selected\n",
        "    #del (features[split])\n",
        "    fea = features[:split]+features[split+1:]\n",
        "    attr, dic = subtables(data, split, delete=True) # Data will be spilt in subtables\n",
        "    for x in range(len(attr)):\n",
        "        child = build_tree(dic[attr[x]], fea)\n",
        "        node.children.append((attr[x], child))\n",
        "    return node\n",
        "\n",
        "def print_tree(node, level):\n",
        "    if node.answer != \"\":\n",
        "        print(\" \"*level, node.answer) # Displays leaf node yes/no\n",
        "        return\n",
        "    print(\" \"*level, node.attribute) # Displays attribute Name\n",
        "    for value, n in node.children:\n",
        "        print(\" \"*(level+1), value)\n",
        "        print_tree(n, level + 2)\n",
        "    \n",
        "def classify(node,x_test,features):\n",
        "    if node.answer != \"\":\n",
        "        print(node.answer)\n",
        "        return\n",
        "    pos = features.index(node.attribute)\n",
        "    for value, n in node.children:\n",
        "        if x_test[pos]==value:\n",
        "            classify(n,x_test,features)\n",
        "            \n",
        "            \n",
        "''' Main program '''\n",
        "dataset, features = load_csv(\"/content/drive/MyDrive/Test.csv\") # Read Tennis data\n",
        "node = build_tree(dataset, features) # Build decision tree\n",
        "print(\"The decision tree for the dataset using ID3 algorithm is \")\n",
        "print_tree(node, 0)\n",
        "testdata, features = load_csv(\"/content/drive/MyDrive/Test.csv\")\n",
        "for xtest in testdata:\n",
        "    print(\"The test instance : \",xtest)\n",
        "    print(\"The predicted label : \", end=\"\")\n",
        "    classify(node,xtest,features)"
      ]
    }
  ],
  "metadata": {
    "kernelspec": {
      "display_name": "Python 3",
      "language": "python",
      "name": "python3"
    },
    "language_info": {
      "codemirror_mode": {
        "name": "ipython",
        "version": 3
      },
      "file_extension": ".py",
      "mimetype": "text/x-python",
      "name": "python",
      "nbconvert_exporter": "python",
      "pygments_lexer": "ipython3",
      "version": "3.7.3"
    },
    "colab": {
      "provenance": [],
      "include_colab_link": true
    }
  },
  "nbformat": 4,
  "nbformat_minor": 0
}