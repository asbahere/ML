{
  "cells": [
    {
      "cell_type": "markdown",
      "metadata": {
        "id": "view-in-github",
        "colab_type": "text"
      },
      "source": [
        "<a href=\"https://colab.research.google.com/github/asbahere/ML/blob/main/lab2(FIND-S).ipynb\" target=\"_parent\"><img src=\"https://colab.research.google.com/assets/colab-badge.svg\" alt=\"Open In Colab\"/></a>"
      ]
    },
    {
      "cell_type": "code",
      "execution_count": null,
      "metadata": {
        "colab": {
          "base_uri": "https://localhost:8080/"
        },
        "id": "ROWCu1Qr_9YG",
        "outputId": "0e1e59fc-c34e-464e-8af0-fe1b4a246b93"
      },
      "outputs": [
        {
          "output_type": "stream",
          "name": "stdout",
          "text": [
            "Mounted at /content/drive\n"
          ]
        }
      ],
      "source": [
        "from google.colab import drive\n",
        "drive.mount('/content/drive')"
      ]
    },
    {
      "cell_type": "code",
      "execution_count": null,
      "metadata": {
        "colab": {
          "base_uri": "https://localhost:8080/"
        },
        "id": "q_Hiyzvx_9YE",
        "outputId": "16c05291-684d-46ea-aed5-e0956603aef0"
      },
      "outputs": [
        {
          "output_type": "stream",
          "name": "stdout",
          "text": [
            "['Sky', 'Temp', 'Humidity', 'Wind', 'Water', 'Forecast']\n",
            "[['Sky', 'AirTemp', 'Humidity', 'Wind', 'Water', 'Forecast', 'EnjoySport'], ['Sunny', 'Warm', 'Normal', 'Strong', 'Warm', 'Same', 'Yes'], ['Sunny', 'Warm', 'High', 'Strong', 'Warm', 'Same', 'Yes'], ['Rainy', 'Cold', 'High', 'Strong', 'Warm', 'Change', 'No'], ['Sunny', 'Warm', 'High', 'Strong', 'Cool', 'Change', 'Yes']]\n",
            "Intial hypothesis\n",
            "['0', '0', '0', '0', '0', '0']\n",
            "The hypothesis are\n",
            "1 = ['0', '0', '0', '0', '0', '0']\n",
            "2 = ['Sunny', 'Warm', 'Normal', 'Strong', 'Warm', 'Same']\n",
            "3 = ['Sunny', 'Warm', '?', 'Strong', 'Warm', 'Same']\n",
            "4 = ['Sunny', 'Warm', '?', 'Strong', 'Warm', 'Same']\n",
            "5 = ['Sunny', 'Warm', '?', 'Strong', '?', '?']\n",
            "Final hypothesis\n",
            "['Sunny', 'Warm', '?', 'Strong', '?', '?']\n"
          ]
        }
      ],
      "source": [
        "import csv\n",
        "\n",
        "def loadCsv(filename):\n",
        "    lines = csv.reader(open(filename, \"rt\"))\n",
        "    dataset = list(lines)\n",
        "    for i in range(len(dataset)):\n",
        "        dataset[i] = dataset[i]\n",
        "    return dataset\n",
        "\n",
        "attributes = ['Sky','Temp','Humidity','Wind','Water','Forecast']\n",
        "print(attributes)\n",
        "n = len(attributes)\n",
        "dataset = loadCsv(\"/content/drive/MyDrive/Test.csv\")\n",
        "print(dataset)\n",
        "h=['0'] * n\n",
        "print(\"Intial hypothesis\")\n",
        "print(h)\n",
        "print(\"The hypothesis are\")\n",
        "\n",
        "for i in range(len(dataset)):\n",
        "    target = dataset[i][-1]\n",
        "    if(target == 'Yes'):\n",
        "        for j in range(n):\n",
        "            if(h[j]=='0'):\n",
        "                h[j] = dataset[i][j]\n",
        "            if(h[j]!= dataset[i][j]):\n",
        "                h[j]='?'\n",
        "    print(i+1,'=',h)\n",
        "\n",
        "print(\"Final hypothesis\")\n",
        "print(h)\n"
      ]
    },
    {
      "cell_type": "code",
      "source": [],
      "metadata": {
        "id": "tFs5XT5BFD2N"
      },
      "execution_count": null,
      "outputs": []
    },
    {
      "cell_type": "code",
      "source": [],
      "metadata": {
        "id": "kcI4SLgVFEKL"
      },
      "execution_count": null,
      "outputs": []
    },
    {
      "cell_type": "code",
      "execution_count": null,
      "metadata": {
        "id": "ORI41Y-g_9YG"
      },
      "outputs": [],
      "source": []
    }
  ],
  "metadata": {
    "kernelspec": {
      "display_name": "Python 3",
      "language": "python",
      "name": "python3"
    },
    "language_info": {
      "codemirror_mode": {
        "name": "ipython",
        "version": 3
      },
      "file_extension": ".py",
      "mimetype": "text/x-python",
      "name": "python",
      "nbconvert_exporter": "python",
      "pygments_lexer": "ipython3",
      "version": "3.7.3"
    },
    "colab": {
      "provenance": [],
      "include_colab_link": true
    }
  },
  "nbformat": 4,
  "nbformat_minor": 0
}